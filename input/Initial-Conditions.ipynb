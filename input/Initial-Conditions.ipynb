{
 "cells": [
  {
   "cell_type": "markdown",
   "metadata": {},
   "source": [
    "## Importing modules"
   ]
  },
  {
   "cell_type": "code",
   "execution_count": 35,
   "metadata": {},
   "outputs": [],
   "source": [
    "import xarray as xr\n",
    "from glob import glob\n",
    "import xmitgcm\n",
    "import matplotlib.pyplot as plt\n",
    "import numpy as np\n",
    "import os\n",
    "from pathlib import Path"
   ]
  },
  {
   "cell_type": "code",
   "execution_count": 36,
   "metadata": {},
   "outputs": [],
   "source": [
    "path = os.getcwd()"
   ]
  },
  {
   "cell_type": "code",
   "execution_count": 37,
   "metadata": {},
   "outputs": [],
   "source": [
    "nx, ny, nr, nt = 1000, 1, 100, 1\n",
    "\n",
    "x,z = np.meshgrid(np.arange(0,nx),-np.arange(0,nr))"
   ]
  },
  {
   "cell_type": "markdown",
   "metadata": {},
   "source": [
    "## Initial temperature and velocity"
   ]
  },
  {
   "cell_type": "code",
   "execution_count": 53,
   "metadata": {},
   "outputs": [],
   "source": [
    "a = -0.2\n",
    "c = 20\n",
    "displace = 100\n",
    "u = a*np.exp(-((x-(nx-displace))**2)/(2*10*c**2) -((z-0)**2)/(2*c**2))\n",
    "u[:,-displace:] = u[:,-displace][:,None]\n",
    "# u[:,:-displace] = u[:,-displace][:,None]"
   ]
  },
  {
   "cell_type": "code",
   "execution_count": 68,
   "metadata": {},
   "outputs": [
    {
     "data": {
      "text/plain": [
       "<matplotlib.colorbar.Colorbar at 0x2b3e7574a438>"
      ]
     },
     "execution_count": 68,
     "metadata": {},
     "output_type": "execute_result"
    },
    {
     "data": {
      "image/png": "[encoded data removed]",
      "text/plain": [
       "<Figure size 432x288 with 2 Axes>"
      ]
     },
     "metadata": {},
     "output_type": "display_data"
    }
   ],
   "source": [
    "fig,ax = plt.subplots()\n",
    "C = ax.contourf(x,z,u)\n",
    "fig.colorbar(C,label='Temp')"
   ]
  },
  {
   "cell_type": "code",
   "execution_count": 70,
   "metadata": {},
   "outputs": [
    {
     "data": {
      "image/png": "[encoded data removed]",
      "text/plain": [
       "<Figure size 432x288 with 2 Axes>"
      ]
     },
     "metadata": {},
     "output_type": "display_data"
    }
   ],
   "source": [
    "temp = u.copy()\n",
    "# temp[:,:-displace] = temp[:,-displace][:,None]\n",
    "temp = (temp-temp.min())*2 + 10\n",
    "\n",
    "\n",
    "fig,ax = plt.subplots()\n",
    "\n",
    "C = ax.contourf(x,z,temp)\n",
    "_ = ax.set(xlabel='x',ylabel='z')\n",
    "fig.colorbar(C,label='Temp')\n",
    "fig.tight_layout()"
   ]
  },
  {
   "cell_type": "code",
   "execution_count": 71,
   "metadata": {},
   "outputs": [],
   "source": [
    "# u = x*2\n",
    "# u = u-u.mean()\n",
    "# u = u/u.max()\n",
    "# u = u/5 - 0.4\n",
    "# u[:,:300] = u[:,300][:,None]\n",
    "# u[:,-300:] = u[:,-300][:,None]\n",
    "# plt.contourf(x,z,u)\n",
    "# plt.colorbar()"
   ]
  },
  {
   "cell_type": "markdown",
   "metadata": {},
   "source": [
    "# Bathymetry"
   ]
  },
  {
   "cell_type": "code",
   "execution_count": 72,
   "metadata": {},
   "outputs": [],
   "source": [
    "bat = x[0]*0-10\n",
    "bat[0] = 0\n",
    "bat[-1] = 0"
   ]
  },
  {
   "cell_type": "markdown",
   "metadata": {},
   "source": [
    "## Saving binary files"
   ]
  },
  {
   "cell_type": "code",
   "execution_count": 73,
   "metadata": {},
   "outputs": [],
   "source": [
    "xmitgcm.utils.write_to_binary(temp[:,None,-1].flatten(), os.path.join(path,'TEMP_E.bin'),dtype='float64')\n",
    "xmitgcm.utils.write_to_binary(u[:,None,-1].flatten(), os.path.join(path,'U_E.bin'),dtype='float64')\n",
    "\n",
    "xmitgcm.utils.write_to_binary(temp[:,None,0].flatten(), os.path.join(path,'TEMP_W.bin'),dtype='float64')\n",
    "xmitgcm.utils.write_to_binary(u[:,None,0].flatten(), os.path.join(path,'U_W.bin'),dtype='float64')\n",
    "\n",
    "xmitgcm.utils.write_to_binary(temp[:,None,:].flatten(), os.path.join(path,'TEMP.bin'),dtype='float64')\n",
    "xmitgcm.utils.write_to_binary(u[:,None,:].flatten(), os.path.join(path,'U.bin'),dtype='float64')\n",
    "xmitgcm.utils.write_to_binary(bat.flatten(), os.path.join(path,'BAT.bin'),dtype='float64')"
   ]
  }
 ],
 "metadata": {
  "kernelspec": {
   "display_name": "Python 3",
   "language": "python",
   "name": "python3"
  },
  "language_info": {
   "codemirror_mode": {
    "name": "ipython",
    "version": 3
   },
   "file_extension": ".py",
   "mimetype": "text/x-python",
   "name": "python",
   "nbconvert_exporter": "python",
   "pygments_lexer": "ipython3",
   "version": "3.6.4"
  }
 },
 "nbformat": 4,
 "nbformat_minor": 2
}
