{
 "cells": [
  {
   "cell_type": "markdown",
   "metadata": {},
   "source": [
    "## Importing modules"
   ]
  },
  {
   "cell_type": "code",
   "execution_count": 2,
   "metadata": {},
   "outputs": [],
   "source": [
    "import sys\n",
    "sys.path.append('../../functions')"
   ]
  },
  {
   "cell_type": "code",
   "execution_count": 4,
   "metadata": {},
   "outputs": [],
   "source": [
    "import xarray as xr\n",
    "from glob import glob\n",
    "import xmitgcm\n",
    "from scipy.optimize import curve_fit\n",
    "import matplotlib.pyplot as plt\n",
    "import numpy as np\n",
    "import seawater as sw\n",
    "import os\n",
    "from pathlib import Path\n",
    "from MITgcmutils import mnc\n",
    "from xmitgcm import open_mdsdataset\n",
    "from sympy import *\n",
    "import seaborn as sns"
   ]
  },
  {
   "cell_type": "code",
   "execution_count": 5,
   "metadata": {},
   "outputs": [],
   "source": [
    "path = '/project/umd_amit_tandon/iury/research/models/'"
   ]
  },
  {
   "cell_type": "markdown",
   "metadata": {},
   "source": [
    "## Function for the density profile"
   ]
  },
  {
   "cell_type": "code",
   "execution_count": 6,
   "metadata": {},
   "outputs": [],
   "source": [
    "def func(x,a,b,c,d):\n",
    "    return a*np.tanh(b*x+c)+d"
   ]
  },
  {
   "cell_type": "markdown",
   "metadata": {},
   "source": [
    "## Define size, axis and path"
   ]
  },
  {
   "cell_type": "code",
   "execution_count": 13,
   "metadata": {},
   "outputs": [],
   "source": [
    "nx, ny, nr, nt = 1000, 1, 100, 1\n",
    "indir = os.path.join(path,'MITgcm/exp/mitgcm_exp/exp/lock_exchange/input/')\n",
    "\n",
    "x,z = np.meshgrid(np.arange(0,nx),-np.arange(0,nr))"
   ]
  },
  {
   "cell_type": "markdown",
   "metadata": {},
   "source": [
    "## Initial temperature and velocity"
   ]
  },
  {
   "cell_type": "code",
   "execution_count": 29,
   "metadata": {},
   "outputs": [],
   "source": [
    "a = 0.2\n",
    "c = 20\n",
    "displace = 100\n",
    "u = a*np.exp(-((x-(nx-displace))**2)/(2*10*c**2) -((z-0)**2)/(2*c**2)) - 0.5\n",
    "u[:,-displace:] = u[:,-displace][:,None]"
   ]
  },
  {
   "cell_type": "code",
   "execution_count": 30,
   "metadata": {},
   "outputs": [
    {
     "data": {
      "text/plain": [
       "<matplotlib.colorbar.Colorbar at 0x2b9039b6d0b8>"
      ]
     },
     "execution_count": 30,
     "metadata": {},
     "output_type": "execute_result"
    },
    {
     "data": {
      "image/png": "[encoded data removed]",
      "text/plain": [
       "<Figure size 432x288 with 2 Axes>"
      ]
     },
     "metadata": {},
     "output_type": "display_data"
    }
   ],
   "source": [
    "plt.contourf(x,z,u)\n",
    "plt.colorbar()"
   ]
  },
  {
   "cell_type": "code",
   "execution_count": 37,
   "metadata": {},
   "outputs": [
    {
     "data": {
      "image/png": "[encoded data removed]",
      "text/plain": [
       "<Figure size 648x216 with 2 Axes>"
      ]
     },
     "metadata": {},
     "output_type": "display_data"
    }
   ],
   "source": [
    "popt = [-0.1,-0.04,15,6.98]\n",
    "temp = func(x,*popt)\n",
    "temp = np.hstack([temp[:,:nx//2],temp[:,:nx//2][:,::-1]])\n",
    "\n",
    "temp = U.copy()\n",
    "temp[:,:-displace] = temp[:,-displace][:,None]\n",
    "temp = temp-temp.max() + 10\n",
    "\n",
    "sns.set()\n",
    "\n",
    "fig,ax = plt.subplots(figsize=(9,3))\n",
    "\n",
    "C = ax.contourf(x,z,temp)\n",
    "_ = ax.set(xlabel='x',ylabel='z')\n",
    "fig.colorbar(C)\n",
    "fig.tight_layout()\n",
    "# fig.savefig('../img/temp.png',bbox='tight',dpi=600)"
   ]
  },
  {
   "cell_type": "markdown",
   "metadata": {},
   "source": [
    "# Bathymetry"
   ]
  },
  {
   "cell_type": "code",
   "execution_count": 41,
   "metadata": {},
   "outputs": [],
   "source": [
    "bat = x[0]*0-10\n",
    "bat[-1] = 0"
   ]
  },
  {
   "cell_type": "markdown",
   "metadata": {},
   "source": [
    "## Saving binary files"
   ]
  },
  {
   "cell_type": "code",
   "execution_count": 43,
   "metadata": {},
   "outputs": [],
   "source": [
    "xmitgcm.utils.write_to_binary(temp[:,None,-1].flatten(), os.path.join(indir,'TEMP_E.bin'),dtype='float64')\n",
    "xmitgcm.utils.write_to_binary(u[:,None,-1].flatten(), os.path.join(indir,'U_E.bin'),dtype='float64')\n",
    "\n",
    "xmitgcm.utils.write_to_binary(temp[:,None,:].flatten(), os.path.join(indir,'TEMP.bin'),dtype='float64')\n",
    "xmitgcm.utils.write_to_binary(u[:,None,:].flatten(), os.path.join(indir,'U.bin'),dtype='float64')\n",
    "xmitgcm.utils.write_to_binary(bat.flatten(), os.path.join('../input/','BAT.bin'),dtype='float64')"
   ]
  },
  {
   "cell_type": "code",
   "execution_count": null,
   "metadata": {},
   "outputs": [],
   "source": []
  }
 ],
 "metadata": {
  "kernelspec": {
   "display_name": "Python 3",
   "language": "python",
   "name": "python3"
  },
  "language_info": {
   "codemirror_mode": {
    "name": "ipython",
    "version": 3
   },
   "file_extension": ".py",
   "mimetype": "text/x-python",
   "name": "python",
   "nbconvert_exporter": "python",
   "pygments_lexer": "ipython3",
   "version": "3.6.4"
  }
 },
 "nbformat": 4,
 "nbformat_minor": 2
}
